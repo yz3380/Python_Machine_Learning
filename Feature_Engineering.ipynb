{
 "cells": [
  {
   "cell_type": "code",
   "execution_count": 3,
   "metadata": {},
   "outputs": [
    {
     "data": {
      "text/html": [
       "<div>\n",
       "<style scoped>\n",
       "    .dataframe tbody tr th:only-of-type {\n",
       "        vertical-align: middle;\n",
       "    }\n",
       "\n",
       "    .dataframe tbody tr th {\n",
       "        vertical-align: top;\n",
       "    }\n",
       "\n",
       "    .dataframe thead th {\n",
       "        text-align: right;\n",
       "    }\n",
       "</style>\n",
       "<table border=\"1\" class=\"dataframe\">\n",
       "  <thead>\n",
       "    <tr style=\"text-align: right;\">\n",
       "      <th></th>\n",
       "      <th>Num_feature</th>\n",
       "      <th>Type_feature</th>\n",
       "    </tr>\n",
       "  </thead>\n",
       "  <tbody>\n",
       "    <tr>\n",
       "      <th>0</th>\n",
       "      <td>5</td>\n",
       "      <td>a</td>\n",
       "    </tr>\n",
       "    <tr>\n",
       "      <th>1</th>\n",
       "      <td>6</td>\n",
       "      <td>b</td>\n",
       "    </tr>\n",
       "    <tr>\n",
       "      <th>2</th>\n",
       "      <td>7</td>\n",
       "      <td>c</td>\n",
       "    </tr>\n",
       "    <tr>\n",
       "      <th>3</th>\n",
       "      <td>8</td>\n",
       "      <td>d</td>\n",
       "    </tr>\n",
       "    <tr>\n",
       "      <th>4</th>\n",
       "      <td>9</td>\n",
       "      <td>e</td>\n",
       "    </tr>\n",
       "  </tbody>\n",
       "</table>\n",
       "</div>"
      ],
      "text/plain": [
       "   Num_feature Type_feature\n",
       "0            5            a\n",
       "1            6            b\n",
       "2            7            c\n",
       "3            8            d\n",
       "4            9            e"
      ]
     },
     "metadata": {},
     "output_type": "display_data"
    },
    {
     "data": {
      "text/html": [
       "<div>\n",
       "<style scoped>\n",
       "    .dataframe tbody tr th:only-of-type {\n",
       "        vertical-align: middle;\n",
       "    }\n",
       "\n",
       "    .dataframe tbody tr th {\n",
       "        vertical-align: top;\n",
       "    }\n",
       "\n",
       "    .dataframe thead th {\n",
       "        text-align: right;\n",
       "    }\n",
       "</style>\n",
       "<table border=\"1\" class=\"dataframe\">\n",
       "  <thead>\n",
       "    <tr style=\"text-align: right;\">\n",
       "      <th></th>\n",
       "      <th>Type_feature</th>\n",
       "      <th>Num_feature_5</th>\n",
       "      <th>Num_feature_6</th>\n",
       "      <th>Num_feature_7</th>\n",
       "      <th>Num_feature_8</th>\n",
       "      <th>Num_feature_9</th>\n",
       "    </tr>\n",
       "  </thead>\n",
       "  <tbody>\n",
       "    <tr>\n",
       "      <th>0</th>\n",
       "      <td>a</td>\n",
       "      <td>1</td>\n",
       "      <td>0</td>\n",
       "      <td>0</td>\n",
       "      <td>0</td>\n",
       "      <td>0</td>\n",
       "    </tr>\n",
       "    <tr>\n",
       "      <th>1</th>\n",
       "      <td>b</td>\n",
       "      <td>0</td>\n",
       "      <td>1</td>\n",
       "      <td>0</td>\n",
       "      <td>0</td>\n",
       "      <td>0</td>\n",
       "    </tr>\n",
       "    <tr>\n",
       "      <th>2</th>\n",
       "      <td>c</td>\n",
       "      <td>0</td>\n",
       "      <td>0</td>\n",
       "      <td>1</td>\n",
       "      <td>0</td>\n",
       "      <td>0</td>\n",
       "    </tr>\n",
       "    <tr>\n",
       "      <th>3</th>\n",
       "      <td>d</td>\n",
       "      <td>0</td>\n",
       "      <td>0</td>\n",
       "      <td>0</td>\n",
       "      <td>1</td>\n",
       "      <td>0</td>\n",
       "    </tr>\n",
       "    <tr>\n",
       "      <th>4</th>\n",
       "      <td>e</td>\n",
       "      <td>0</td>\n",
       "      <td>0</td>\n",
       "      <td>0</td>\n",
       "      <td>0</td>\n",
       "      <td>1</td>\n",
       "    </tr>\n",
       "  </tbody>\n",
       "</table>\n",
       "</div>"
      ],
      "text/plain": [
       "  Type_feature  Num_feature_5  Num_feature_6  Num_feature_7  Num_feature_8  \\\n",
       "0            a              1              0              0              0   \n",
       "1            b              0              1              0              0   \n",
       "2            c              0              0              1              0   \n",
       "3            d              0              0              0              1   \n",
       "4            e              0              0              0              0   \n",
       "\n",
       "   Num_feature_9  \n",
       "0              0  \n",
       "1              0  \n",
       "2              0  \n",
       "3              0  \n",
       "4              1  "
      ]
     },
     "execution_count": 3,
     "metadata": {},
     "output_type": "execute_result"
    }
   ],
   "source": [
    "# transform dummy variables\n",
    "import pandas as pd\n",
    "\n",
    "fruits = pd.DataFrame({'Num_feature':[5, 6, 7, 8, 9], 'Type_feature':['a', 'b', 'c', 'd', 'e']})\n",
    "display(fruits)\n",
    "\n",
    "fruits['Num_feature'] = fruits['Num_feature'].astype(str)\n",
    "pd.get_dummies(fruits, columns=['Num_feature'])"
   ]
  },
  {
   "cell_type": "code",
   "execution_count": 7,
   "metadata": {},
   "outputs": [
    {
     "data": {
      "image/png": "[encoded data removed]",
      "text/plain": [
       "<Figure size 432x288 with 1 Axes>"
      ]
     },
     "metadata": {
      "needs_background": "light"
     },
     "output_type": "display_data"
    }
   ],
   "source": [
    "# data binning / discretization sample\n",
    "import numpy as np\n",
    "import matplotlib.pyplot as plt\n",
    "\n",
    "rnd = np.random.RandomState(38)\n",
    "x = rnd.uniform(-5, 5, size=50)\n",
    "y_no_noise = (np.cos(6 * x) + x)\n",
    "X = x.reshape(-1, 1)\n",
    "y = (y_no_noise + rnd.normal(size=len(x))) / 2\n",
    "\n",
    "plt.plot(X, y, 'o', c='r')\n",
    "plt.show()"
   ]
  },
  {
   "cell_type": "code",
   "execution_count": 9,
   "metadata": {},
   "outputs": [
    {
     "data": {
      "image/png": "[encoded data removed]",
      "text/plain": [
       "<Figure size 432x288 with 1 Axes>"
      ]
     },
     "metadata": {
      "needs_background": "light"
     },
     "output_type": "display_data"
    }
   ],
   "source": [
    "# before data binning\n",
    "from sklearn.neural_network import MLPRegressor\n",
    "from sklearn.neighbors import KNeighborsRegressor\n",
    "\n",
    "line = np.linspace(-5, 5, 1000, endpoint=False).reshape(-1, 1)\n",
    "mlpr = MLPRegressor().fit(X, y)\n",
    "knr = KNeighborsRegressor().fit(X, y)\n",
    "\n",
    "plt.plot(line, mlpr.predict(line), label='MLP')\n",
    "plt.plot(line, knr.predict(line), label='KNN')\n",
    "plt.plot(X, y, 'o', c='r')\n",
    "plt.legend(loc='best')\n",
    "plt.show()"
   ]
  },
  {
   "cell_type": "code",
   "execution_count": 15,
   "metadata": {},
   "outputs": [
    {
     "name": "stdout",
     "output_type": "stream",
     "text": [
      "(50, 10)\n",
      "[[0. 0. 0. 1. 0. 0. 0. 0. 0. 0.]\n",
      " [0. 0. 0. 0. 0. 0. 0. 0. 1. 0.]\n",
      " [0. 0. 0. 0. 0. 0. 0. 0. 0. 1.]\n",
      " [0. 0. 0. 0. 0. 0. 0. 1. 0. 0.]\n",
      " [0. 0. 0. 0. 0. 0. 1. 0. 0. 0.]\n",
      " [0. 0. 0. 0. 0. 0. 1. 0. 0. 0.]\n",
      " [0. 0. 1. 0. 0. 0. 0. 0. 0. 0.]\n",
      " [0. 0. 0. 1. 0. 0. 0. 0. 0. 0.]\n",
      " [0. 0. 1. 0. 0. 0. 0. 0. 0. 0.]\n",
      " [1. 0. 0. 0. 0. 0. 0. 0. 0. 0.]]\n"
     ]
    },
    {
     "data": {
      "image/png": "[encoded data removed]",
      "text/plain": [
       "<Figure size 432x288 with 1 Axes>"
      ]
     },
     "metadata": {
      "needs_background": "light"
     },
     "output_type": "display_data"
    }
   ],
   "source": [
    "# data binning\n",
    "from sklearn.preprocessing import OneHotEncoder\n",
    "\n",
    "bins = np.linspace(-5, 5, 11)\n",
    "target_bin = np.digitize(X, bins=bins)\n",
    "onehot = OneHotEncoder(sparse=False)\n",
    "onehot.fit(target_bin)\n",
    "\n",
    "X_in_bin = onehot.transform(target_bin)\n",
    "print(X_in_bin.shape)\n",
    "print(X_in_bin[:10])\n",
    "\n",
    "# redo MLP and KNN\n",
    "new_line = onehot.transform(np.digitize(line, bins=bins))\n",
    "new_mlpr = MLPRegressor().fit(X_in_bin, y)\n",
    "new_knr = KNeighborsRegressor().fit(X_in_bin, y)\n",
    "\n",
    "plt.plot(line, new_mlpr.predict(new_line), label = 'New MLP')\n",
    "plt.plot(line, new_knr.predict(new_line), label = 'New KNN')\n",
    "plt.plot(X, y, 'o', c='r')\n",
    "plt.legend(loc='best')\n",
    "plt.show()"
   ]
  },
  {
   "cell_type": "code",
   "execution_count": 19,
   "metadata": {},
   "outputs": [
    {
     "data": {
      "image/png": "[encoded data removed]",
      "text/plain": [
       "<Figure size 432x288 with 1 Axes>"
      ]
     },
     "metadata": {
      "needs_background": "light"
     },
     "output_type": "display_data"
    }
   ],
   "source": [
    "# Interaction Features\n",
    "#np.hstack()\n",
    "\n",
    "# Polynomial Features -> transform x to higher degree polynomial\n",
    "from sklearn.preprocessing import PolynomialFeatures\n",
    "from sklearn.linear_model import LinearRegression\n",
    "\n",
    "poly = PolynomialFeatures(degree=10, include_bias=False)\n",
    "X_poly = poly.fit_transform(X)\n",
    "LNR_poly = LinearRegression().fit(X_poly, y)\n",
    "line_poly = poly.transform(line)\n",
    "\n",
    "plt.plot(line, LNR_poly.predict(line_poly), label='Linear Regressor')\n",
    "plt.xlim(np.min(X) - 0.5, np.max(X) + 0.5)\n",
    "plt.ylim(np.min(y) - 0.5, np.max(y) + 0.5)\n",
    "plt.plot(X, y, 'o', c='r')\n",
    "plt.legend(loc='lower right')\n",
    "plt.show()"
   ]
  },
  {
   "cell_type": "code",
   "execution_count": null,
   "metadata": {},
   "outputs": [],
   "source": [
    "# Auto Feature Selection in sklearn\n",
    "from sklearn.feature_selection import SelectFromModel\n",
    "from sklearn.ensemble import RandomForestRegressor\n",
    "\n",
    "sfm = SelectFromModel(RandomForestRegressor(n_estimators=100, random_state=38), threshold='median')\n",
    "sfm.fit(X_train_scaled, y_train)\n",
    "X_train_sfm = sfm.transform(X_train_scaled)"
   ]
  },
  {
   "cell_type": "code",
   "execution_count": null,
   "metadata": {},
   "outputs": [],
   "source": [
    "# Recursive Feature Elimination, RFE\n",
    "from sklearn.feature_selection import RFE\n",
    "rfe = RFE(RandomForestRegressor(n_estimators=100, random_state=38), n_features_to_select=12)\n",
    "rfe.fit(X_train_scaled, y_train)\n",
    "X_train_rfe = rfe.transform(X_train_scaled)"
   ]
  }
 ],
 "metadata": {
  "kernelspec": {
   "display_name": "Python 3",
   "language": "python",
   "name": "python3"
  },
  "language_info": {
   "codemirror_mode": {
    "name": "ipython",
    "version": 3
   },
   "file_extension": ".py",
   "mimetype": "text/x-python",
   "name": "python",
   "nbconvert_exporter": "python",
   "pygments_lexer": "ipython3",
   "version": "3.7.6"
  }
 },
 "nbformat": 4,
 "nbformat_minor": 4
}
