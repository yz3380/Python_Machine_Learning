{
 "cells": [
  {
   "cell_type": "code",
   "execution_count": 1,
   "metadata": {},
   "outputs": [
    {
     "name": "stdout",
     "output_type": "stream",
     "text": [
      "0.9\n"
     ]
    }
   ],
   "source": [
    "# Pipeline for data preprocessing\n",
    "from sklearn.datasets import make_blobs\n",
    "from sklearn.model_selection import train_test_split\n",
    "from sklearn.preprocessing import StandardScaler\n",
    "from sklearn.neural_network import MLPClassifier\n",
    "from sklearn.pipeline import Pipeline\n",
    "from sklearn.pipeline import make_pipeline\n",
    "\n",
    "X, y = make_blobs(n_samples=200, centers=2, cluster_std=5)\n",
    "X_train, X_test, y_train, y_test = train_test_split(X, y, random_state=38)\n",
    "pipeline = Pipeline([('scaler', StandardScaler()), ('mlp', MLPClassifier(max_iter=1600, random_state=38))])\n",
    "#pipe = make_pipeline(StandardScaler(), MLPRegressor(random_state=38))\n",
    "pipeline.fit(X_train, y_train)\n",
    "print(pipeline.score(X_test, y_test))"
   ]
  },
  {
   "cell_type": "code",
   "execution_count": 5,
   "metadata": {},
   "outputs": [
    {
     "name": "stdout",
     "output_type": "stream",
     "text": [
      "0.9199999999999999\n",
      "{'mlp__alpha': 0.0001, 'mlp__hidden_layer_sizes': (50,)}\n",
      "0.9\n",
      "[('scaler', StandardScaler(copy=True, with_mean=True, with_std=True)), ('mlp', MLPClassifier(activation='relu', alpha=0.0001, batch_size='auto', beta_1=0.9,\n",
      "              beta_2=0.999, early_stopping=False, epsilon=1e-08,\n",
      "              hidden_layer_sizes=(100,), learning_rate='constant',\n",
      "              learning_rate_init=0.001, max_fun=15000, max_iter=1600,\n",
      "              momentum=0.9, n_iter_no_change=10, nesterovs_momentum=True,\n",
      "              power_t=0.5, random_state=38, shuffle=True, solver='adam',\n",
      "              tol=0.0001, validation_fraction=0.1, verbose=False,\n",
      "              warm_start=False))]\n"
     ]
    }
   ],
   "source": [
    "# Pipeline for GridSearchCV\n",
    "from sklearn.model_selection import GridSearchCV\n",
    "\n",
    "params = {'mlp__hidden_layer_sizes':[(50,), (100,), (100,100)], \n",
    "          'mlp__alpha':[0.0001, 0.001, 0.01, 0.1]}\n",
    "grid = GridSearchCV(pipeline, param_grid=params, cv=3)\n",
    "grid.fit(X_train, y_train)\n",
    "\n",
    "print(grid.best_score_)\n",
    "print(grid.best_params_)\n",
    "print(grid.score(X_test, y_test))\n",
    "print(pipeline.steps)"
   ]
  },
  {
   "cell_type": "code",
   "execution_count": null,
   "metadata": {},
   "outputs": [],
   "source": [
    "# parameter tuning in pipeline sample code\n",
    "from sklearn.neural_network import MLPRegressor\n",
    "from sklearn.ensemble import RandomForestRegressor\n",
    "\n",
    "params = [{'reg':[MLPRegressor(random_state=38)], \n",
    "           'scaler':[StandardScaler(), None], \n",
    "           'reg_hidden_layer_sizes':[(50,), (100,), (100, 100)]}, \n",
    "          {'reg':[RandomForestRegressor(random_state=38)], \n",
    "           'scalar':[None], \n",
    "          'reg__n_estimators':[10, 50, 100]}]\n",
    "\n",
    "pipe = Pipeline([('scaler', StandardScaler()), ('reg', MLPRegressor())])\n",
    "grid = GridSearchCV(pipe, params, cv=3)\n",
    "#grid.fit(X, y)\n",
    "#print(grid.best_score_)"
   ]
  }
 ],
 "metadata": {
  "kernelspec": {
   "display_name": "Python 3",
   "language": "python",
   "name": "python3"
  },
  "language_info": {
   "codemirror_mode": {
    "name": "ipython",
    "version": 3
   },
   "file_extension": ".py",
   "mimetype": "text/x-python",
   "name": "python",
   "nbconvert_exporter": "python",
   "pygments_lexer": "ipython3",
   "version": "3.7.6"
  }
 },
 "nbformat": 4,
 "nbformat_minor": 4
}
